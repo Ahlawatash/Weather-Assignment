{
  "cells": [
    {
      "cell_type": "markdown",
      "metadata": {
        "id": "view-in-github",
        "colab_type": "text"
      },
      "source": [
        "<a href=\"https://colab.research.google.com/github/Ahlawatash/Weather-Assignment/blob/main/starter_notebook.ipynb\" target=\"_parent\"><img src=\"https://colab.research.google.com/assets/colab-badge.svg\" alt=\"Open In Colab\"/></a>"
      ]
    },
    {
      "cell_type": "markdown",
      "id": "72e78a05",
      "metadata": {
        "id": "72e78a05"
      },
      "source": [
        "# 🌦️ WeatherWise – Starter Notebook\n",
        "\n",
        "Welcome to your **WeatherWise** project notebook! This scaffold is designed to help you build your weather advisor app using Python, visualisations, and AI-enhanced development.\n",
        "\n",
        "---\n",
        "\n",
        "📄 **Full Assignment Specification**  \n",
        "See [`ASSIGNMENT.md`](ASSIGNMENT.md) or check the LMS for full details.\n",
        "\n",
        "📝 **Quick Refresher**  \n",
        "A one-page summary is available in [`resources/assignment-summary.md`](resources/assignment-summary.md).\n",
        "\n",
        "---\n",
        "\n",
        "🧠 **This Notebook Structure is Optional**  \n",
        "You’re encouraged to reorganise, rename sections, or remove scaffold cells if you prefer — as long as your final version meets the requirements.\n",
        "\n",
        "✅ You may delete this note before submission.\n",
        "\n"
      ]
    },
    {
      "cell_type": "markdown",
      "id": "fa8c7f6c",
      "metadata": {
        "id": "fa8c7f6c"
      },
      "source": [
        "## 🧰 Setup and Imports\n",
        "\n",
        "This section imports commonly used packages and installs any additional tools used in the project.\n",
        "\n",
        "- You may not need all of these unless you're using specific features (e.g. visualisations, advanced prompting).\n",
        "- The notebook assumes the following packages are **pre-installed** in the provided environment or installable via pip:\n",
        "  - `requests`, `matplotlib`, `pyinputplus`\n",
        "  - `fetch-my-weather` (for accessing weather data easily)\n",
        "  - `hands-on-ai` (for AI logging, comparisons, or prompting tools)\n",
        "\n",
        "If you're running this notebook in **Google Colab**, uncomment the following lines to install the required packages.\n"
      ]
    },
    {
      "cell_type": "code",
      "execution_count": 5,
      "id": "70c3f3f1",
      "metadata": {
        "id": "70c3f3f1",
        "colab": {
          "base_uri": "https://localhost:8080/"
        },
        "outputId": "254e4939-2efa-4f6b-e713-a3636d271d8e"
      },
      "outputs": [
        {
          "output_type": "stream",
          "name": "stdout",
          "text": [
            "Requirement already satisfied: requests in /usr/local/lib/python3.12/dist-packages (2.32.4)\n",
            "Requirement already satisfied: charset_normalizer<4,>=2 in /usr/local/lib/python3.12/dist-packages (from requests) (3.4.3)\n",
            "Requirement already satisfied: idna<4,>=2.5 in /usr/local/lib/python3.12/dist-packages (from requests) (3.10)\n",
            "Requirement already satisfied: urllib3<3,>=1.21.1 in /usr/local/lib/python3.12/dist-packages (from requests) (2.5.0)\n",
            "Requirement already satisfied: certifi>=2017.4.17 in /usr/local/lib/python3.12/dist-packages (from requests) (2025.10.5)\n",
            "Requirement already satisfied: matplotlib in /usr/local/lib/python3.12/dist-packages (3.10.0)\n",
            "Requirement already satisfied: contourpy>=1.0.1 in /usr/local/lib/python3.12/dist-packages (from matplotlib) (1.3.3)\n",
            "Requirement already satisfied: cycler>=0.10 in /usr/local/lib/python3.12/dist-packages (from matplotlib) (0.12.1)\n",
            "Requirement already satisfied: fonttools>=4.22.0 in /usr/local/lib/python3.12/dist-packages (from matplotlib) (4.60.1)\n",
            "Requirement already satisfied: kiwisolver>=1.3.1 in /usr/local/lib/python3.12/dist-packages (from matplotlib) (1.4.9)\n",
            "Requirement already satisfied: numpy>=1.23 in /usr/local/lib/python3.12/dist-packages (from matplotlib) (2.0.2)\n",
            "Requirement already satisfied: packaging>=20.0 in /usr/local/lib/python3.12/dist-packages (from matplotlib) (25.0)\n",
            "Requirement already satisfied: pillow>=8 in /usr/local/lib/python3.12/dist-packages (from matplotlib) (11.3.0)\n",
            "Requirement already satisfied: pyparsing>=2.3.1 in /usr/local/lib/python3.12/dist-packages (from matplotlib) (3.2.5)\n",
            "Requirement already satisfied: python-dateutil>=2.7 in /usr/local/lib/python3.12/dist-packages (from matplotlib) (2.9.0.post0)\n",
            "Requirement already satisfied: six>=1.5 in /usr/local/lib/python3.12/dist-packages (from python-dateutil>=2.7->matplotlib) (1.17.0)\n",
            "Requirement already satisfied: pyinputplus in /usr/local/lib/python3.12/dist-packages (0.2.12)\n",
            "Requirement already satisfied: pysimplevalidate>=0.2.7 in /usr/local/lib/python3.12/dist-packages (from pyinputplus) (0.2.12)\n",
            "Requirement already satisfied: stdiomask>=0.0.3 in /usr/local/lib/python3.12/dist-packages (from pyinputplus) (0.0.6)\n",
            "Requirement already satisfied: pandas in /usr/local/lib/python3.12/dist-packages (2.2.2)\n",
            "Requirement already satisfied: numpy>=1.26.0 in /usr/local/lib/python3.12/dist-packages (from pandas) (2.0.2)\n",
            "Requirement already satisfied: python-dateutil>=2.8.2 in /usr/local/lib/python3.12/dist-packages (from pandas) (2.9.0.post0)\n",
            "Requirement already satisfied: pytz>=2020.1 in /usr/local/lib/python3.12/dist-packages (from pandas) (2025.2)\n",
            "Requirement already satisfied: tzdata>=2022.7 in /usr/local/lib/python3.12/dist-packages (from pandas) (2025.2)\n",
            "Requirement already satisfied: six>=1.5 in /usr/local/lib/python3.12/dist-packages (from python-dateutil>=2.8.2->pandas) (1.17.0)\n",
            "Requirement already satisfied: hands-on-ai in /usr/local/lib/python3.12/dist-packages (0.2.1)\n",
            "Requirement already satisfied: requests in /usr/local/lib/python3.12/dist-packages (from hands-on-ai) (2.32.4)\n",
            "Requirement already satisfied: typer in /usr/local/lib/python3.12/dist-packages (from hands-on-ai) (0.19.2)\n",
            "Requirement already satisfied: python-fasthtml in /usr/local/lib/python3.12/dist-packages (from hands-on-ai) (0.12.29)\n",
            "Requirement already satisfied: python-docx in /usr/local/lib/python3.12/dist-packages (from hands-on-ai) (1.2.0)\n",
            "Requirement already satisfied: pymupdf in /usr/local/lib/python3.12/dist-packages (from hands-on-ai) (1.26.5)\n",
            "Requirement already satisfied: scikit-learn in /usr/local/lib/python3.12/dist-packages (from hands-on-ai) (1.6.1)\n",
            "Requirement already satisfied: numpy in /usr/local/lib/python3.12/dist-packages (from hands-on-ai) (2.0.2)\n",
            "Requirement already satisfied: instructor>=1.11.0 in /usr/local/lib/python3.12/dist-packages (from hands-on-ai) (1.11.3)\n",
            "Requirement already satisfied: pydantic>=2.0 in /usr/local/lib/python3.12/dist-packages (from hands-on-ai) (2.11.10)\n",
            "Requirement already satisfied: aiohttp<4.0.0,>=3.9.1 in /usr/local/lib/python3.12/dist-packages (from instructor>=1.11.0->hands-on-ai) (3.13.0)\n",
            "Requirement already satisfied: diskcache>=5.6.3 in /usr/local/lib/python3.12/dist-packages (from instructor>=1.11.0->hands-on-ai) (5.6.3)\n",
            "Requirement already satisfied: docstring-parser<1.0,>=0.16 in /usr/local/lib/python3.12/dist-packages (from instructor>=1.11.0->hands-on-ai) (0.17.0)\n",
            "Requirement already satisfied: jinja2<4.0.0,>=3.1.4 in /usr/local/lib/python3.12/dist-packages (from instructor>=1.11.0->hands-on-ai) (3.1.6)\n",
            "Requirement already satisfied: jiter<0.11,>=0.6.1 in /usr/local/lib/python3.12/dist-packages (from instructor>=1.11.0->hands-on-ai) (0.10.0)\n",
            "Requirement already satisfied: openai<2.0.0,>=1.70.0 in /usr/local/lib/python3.12/dist-packages (from instructor>=1.11.0->hands-on-ai) (1.109.1)\n",
            "Requirement already satisfied: pydantic-core<3.0.0,>=2.18.0 in /usr/local/lib/python3.12/dist-packages (from instructor>=1.11.0->hands-on-ai) (2.33.2)\n",
            "Requirement already satisfied: rich<15.0.0,>=13.7.0 in /usr/local/lib/python3.12/dist-packages (from instructor>=1.11.0->hands-on-ai) (13.9.4)\n",
            "Requirement already satisfied: tenacity<10.0.0,>=8.2.3 in /usr/local/lib/python3.12/dist-packages (from instructor>=1.11.0->hands-on-ai) (8.5.0)\n",
            "Requirement already satisfied: annotated-types>=0.6.0 in /usr/local/lib/python3.12/dist-packages (from pydantic>=2.0->hands-on-ai) (0.7.0)\n",
            "Requirement already satisfied: typing-extensions>=4.12.2 in /usr/local/lib/python3.12/dist-packages (from pydantic>=2.0->hands-on-ai) (4.15.0)\n",
            "Requirement already satisfied: typing-inspection>=0.4.0 in /usr/local/lib/python3.12/dist-packages (from pydantic>=2.0->hands-on-ai) (0.4.2)\n",
            "Requirement already satisfied: charset_normalizer<4,>=2 in /usr/local/lib/python3.12/dist-packages (from requests->hands-on-ai) (3.4.3)\n",
            "Requirement already satisfied: idna<4,>=2.5 in /usr/local/lib/python3.12/dist-packages (from requests->hands-on-ai) (3.10)\n",
            "Requirement already satisfied: urllib3<3,>=1.21.1 in /usr/local/lib/python3.12/dist-packages (from requests->hands-on-ai) (2.5.0)\n",
            "Requirement already satisfied: certifi>=2017.4.17 in /usr/local/lib/python3.12/dist-packages (from requests->hands-on-ai) (2025.10.5)\n",
            "Requirement already satisfied: click>=8.0.0 in /usr/local/lib/python3.12/dist-packages (from typer->hands-on-ai) (8.3.0)\n",
            "Requirement already satisfied: shellingham>=1.3.0 in /usr/local/lib/python3.12/dist-packages (from typer->hands-on-ai) (1.5.4)\n",
            "Requirement already satisfied: lxml>=3.1.0 in /usr/local/lib/python3.12/dist-packages (from python-docx->hands-on-ai) (5.4.0)\n",
            "Requirement already satisfied: fastcore>=1.8.1 in /usr/local/lib/python3.12/dist-packages (from python-fasthtml->hands-on-ai) (1.8.12)\n",
            "Requirement already satisfied: python-dateutil in /usr/local/lib/python3.12/dist-packages (from python-fasthtml->hands-on-ai) (2.9.0.post0)\n",
            "Requirement already satisfied: starlette>0.33 in /usr/local/lib/python3.12/dist-packages (from python-fasthtml->hands-on-ai) (0.48.0)\n",
            "Requirement already satisfied: oauthlib in /usr/local/lib/python3.12/dist-packages (from python-fasthtml->hands-on-ai) (3.3.1)\n",
            "Requirement already satisfied: itsdangerous in /usr/local/lib/python3.12/dist-packages (from python-fasthtml->hands-on-ai) (2.2.0)\n",
            "Requirement already satisfied: uvicorn>=0.30 in /usr/local/lib/python3.12/dist-packages (from uvicorn[standard]>=0.30->python-fasthtml->hands-on-ai) (0.37.0)\n",
            "Requirement already satisfied: httpx in /usr/local/lib/python3.12/dist-packages (from python-fasthtml->hands-on-ai) (0.28.1)\n",
            "Requirement already satisfied: fastlite>=0.1.1 in /usr/local/lib/python3.12/dist-packages (from python-fasthtml->hands-on-ai) (0.2.1)\n",
            "Requirement already satisfied: python-multipart in /usr/local/lib/python3.12/dist-packages (from python-fasthtml->hands-on-ai) (0.0.20)\n",
            "Requirement already satisfied: beautifulsoup4 in /usr/local/lib/python3.12/dist-packages (from python-fasthtml->hands-on-ai) (4.13.5)\n",
            "Requirement already satisfied: scipy>=1.6.0 in /usr/local/lib/python3.12/dist-packages (from scikit-learn->hands-on-ai) (1.16.2)\n",
            "Requirement already satisfied: joblib>=1.2.0 in /usr/local/lib/python3.12/dist-packages (from scikit-learn->hands-on-ai) (1.5.2)\n",
            "Requirement already satisfied: threadpoolctl>=3.1.0 in /usr/local/lib/python3.12/dist-packages (from scikit-learn->hands-on-ai) (3.6.0)\n",
            "Requirement already satisfied: aiohappyeyeballs>=2.5.0 in /usr/local/lib/python3.12/dist-packages (from aiohttp<4.0.0,>=3.9.1->instructor>=1.11.0->hands-on-ai) (2.6.1)\n",
            "Requirement already satisfied: aiosignal>=1.4.0 in /usr/local/lib/python3.12/dist-packages (from aiohttp<4.0.0,>=3.9.1->instructor>=1.11.0->hands-on-ai) (1.4.0)\n",
            "Requirement already satisfied: attrs>=17.3.0 in /usr/local/lib/python3.12/dist-packages (from aiohttp<4.0.0,>=3.9.1->instructor>=1.11.0->hands-on-ai) (25.4.0)\n",
            "Requirement already satisfied: frozenlist>=1.1.1 in /usr/local/lib/python3.12/dist-packages (from aiohttp<4.0.0,>=3.9.1->instructor>=1.11.0->hands-on-ai) (1.8.0)\n",
            "Requirement already satisfied: multidict<7.0,>=4.5 in /usr/local/lib/python3.12/dist-packages (from aiohttp<4.0.0,>=3.9.1->instructor>=1.11.0->hands-on-ai) (6.7.0)\n",
            "Requirement already satisfied: propcache>=0.2.0 in /usr/local/lib/python3.12/dist-packages (from aiohttp<4.0.0,>=3.9.1->instructor>=1.11.0->hands-on-ai) (0.3.2)\n",
            "Requirement already satisfied: yarl<2.0,>=1.17.0 in /usr/local/lib/python3.12/dist-packages (from aiohttp<4.0.0,>=3.9.1->instructor>=1.11.0->hands-on-ai) (1.22.0)\n",
            "Requirement already satisfied: packaging in /usr/local/lib/python3.12/dist-packages (from fastcore>=1.8.1->python-fasthtml->hands-on-ai) (25.0)\n",
            "Requirement already satisfied: apswutils>=0.1.0 in /usr/local/lib/python3.12/dist-packages (from fastlite>=0.1.1->python-fasthtml->hands-on-ai) (0.1.0)\n",
            "Requirement already satisfied: MarkupSafe>=2.0 in /usr/local/lib/python3.12/dist-packages (from jinja2<4.0.0,>=3.1.4->instructor>=1.11.0->hands-on-ai) (3.0.3)\n",
            "Requirement already satisfied: anyio<5,>=3.5.0 in /usr/local/lib/python3.12/dist-packages (from openai<2.0.0,>=1.70.0->instructor>=1.11.0->hands-on-ai) (4.11.0)\n",
            "Requirement already satisfied: distro<2,>=1.7.0 in /usr/local/lib/python3.12/dist-packages (from openai<2.0.0,>=1.70.0->instructor>=1.11.0->hands-on-ai) (1.9.0)\n",
            "Requirement already satisfied: sniffio in /usr/local/lib/python3.12/dist-packages (from openai<2.0.0,>=1.70.0->instructor>=1.11.0->hands-on-ai) (1.3.1)\n",
            "Requirement already satisfied: tqdm>4 in /usr/local/lib/python3.12/dist-packages (from openai<2.0.0,>=1.70.0->instructor>=1.11.0->hands-on-ai) (4.67.1)\n",
            "Requirement already satisfied: httpcore==1.* in /usr/local/lib/python3.12/dist-packages (from httpx->python-fasthtml->hands-on-ai) (1.0.9)\n",
            "Requirement already satisfied: h11>=0.16 in /usr/local/lib/python3.12/dist-packages (from httpcore==1.*->httpx->python-fasthtml->hands-on-ai) (0.16.0)\n",
            "Requirement already satisfied: markdown-it-py>=2.2.0 in /usr/local/lib/python3.12/dist-packages (from rich<15.0.0,>=13.7.0->instructor>=1.11.0->hands-on-ai) (4.0.0)\n",
            "Requirement already satisfied: pygments<3.0.0,>=2.13.0 in /usr/local/lib/python3.12/dist-packages (from rich<15.0.0,>=13.7.0->instructor>=1.11.0->hands-on-ai) (2.19.2)\n",
            "Requirement already satisfied: httptools>=0.6.3 in /usr/local/lib/python3.12/dist-packages (from uvicorn[standard]>=0.30->python-fasthtml->hands-on-ai) (0.7.1)\n",
            "Requirement already satisfied: python-dotenv>=0.13 in /usr/local/lib/python3.12/dist-packages (from uvicorn[standard]>=0.30->python-fasthtml->hands-on-ai) (1.1.1)\n",
            "Requirement already satisfied: pyyaml>=5.1 in /usr/local/lib/python3.12/dist-packages (from uvicorn[standard]>=0.30->python-fasthtml->hands-on-ai) (6.0.3)\n",
            "Requirement already satisfied: uvloop>=0.15.1 in /usr/local/lib/python3.12/dist-packages (from uvicorn[standard]>=0.30->python-fasthtml->hands-on-ai) (0.22.1)\n",
            "Requirement already satisfied: watchfiles>=0.13 in /usr/local/lib/python3.12/dist-packages (from uvicorn[standard]>=0.30->python-fasthtml->hands-on-ai) (1.1.1)\n",
            "Requirement already satisfied: websockets>=10.4 in /usr/local/lib/python3.12/dist-packages (from uvicorn[standard]>=0.30->python-fasthtml->hands-on-ai) (15.0.1)\n",
            "Requirement already satisfied: soupsieve>1.2 in /usr/local/lib/python3.12/dist-packages (from beautifulsoup4->python-fasthtml->hands-on-ai) (2.8)\n",
            "Requirement already satisfied: six>=1.5 in /usr/local/lib/python3.12/dist-packages (from python-dateutil->python-fasthtml->hands-on-ai) (1.17.0)\n",
            "Requirement already satisfied: apsw in /usr/local/lib/python3.12/dist-packages (from apswutils>=0.1.0->fastlite>=0.1.1->python-fasthtml->hands-on-ai) (3.50.4.0)\n",
            "Requirement already satisfied: mdurl~=0.1 in /usr/local/lib/python3.12/dist-packages (from markdown-it-py>=2.2.0->rich<15.0.0,>=13.7.0->instructor>=1.11.0->hands-on-ai) (0.1.2)\n"
          ]
        }
      ],
      "source": [
        "# 🧪 Optional packages — uncomment if needed in Colab or JupyterHub\n",
        "!pip install requests\n",
        "!pip install matplotlib\n",
        "!pip install pyinputplus\n",
        "!pip install pandas\n",
        "!pip install hands-on-ai\n"
      ]
    },
    {
      "cell_type": "code",
      "source": [
        "import os\n",
        "\n",
        "os.environ['HANDS_ON_AI_SERVER'] = 'http://ollama.serveur.au'\n",
        "os.environ['HANDS_ON_AI_MODEL'] = 'granite3.2'\n",
        "os.environ['HANDS_ON_AI_API_KEY'] = '29e060f713934fef81330206ee7b9842.m8axTsN_eQbon2ajZvmLV42e'"
      ],
      "metadata": {
        "id": "B2JKlJfrGgIb"
      },
      "id": "B2JKlJfrGgIb",
      "execution_count": 15,
      "outputs": []
    },
    {
      "cell_type": "markdown",
      "id": "59ae7543",
      "metadata": {
        "id": "59ae7543"
      },
      "source": [
        "## 📦 Setup and Configuration\n",
        "Import required packages and setup environment."
      ]
    },
    {
      "cell_type": "code",
      "execution_count": 16,
      "id": "f1dd051e",
      "metadata": {
        "id": "f1dd051e"
      },
      "outputs": [],
      "source": [
        "import requests\n",
        "import matplotlib.pyplot as plt\n",
        "import pyinputplus as pyip\n",
        "import pandas as pd\n",
        "from datetime import datetime\n",
        "\n",
        "\n",
        "# Add any other setup code here"
      ]
    },
    {
      "cell_type": "markdown",
      "id": "f736ade3",
      "metadata": {
        "id": "f736ade3"
      },
      "source": [
        "## 🌤️ Weather Data Functions"
      ]
    },
    {
      "cell_type": "code",
      "execution_count": 18,
      "id": "7a2c7cd0",
      "metadata": {
        "id": "7a2c7cd0",
        "colab": {
          "base_uri": "https://localhost:8080/"
        },
        "outputId": "33737929-8fb3-4de1-8056-a7a547602109"
      },
      "outputs": [
        {
          "output_type": "stream",
          "name": "stdout",
          "text": [
            "📍 Perth\n",
            "🕒 2025-10-17 12:38 PM\n",
            "🌡️ Temp: 31.0 °C (feels 33.0 °C)\n",
            "⛅ Sunny\n",
            "💧 Humidity: 24.0 %   🌧️ Precip: 0.0 mm\n",
            "🌬️ Wind: 17.0 km/h\n"
          ]
        }
      ],
      "source": [
        "# Define get_weather_data() function here\n",
        "# 🌦️ Weather Data Functions + Interactive Menu\n",
        "\n",
        "import requests\n",
        "\n",
        "WTTR_URL = \"https://wttr.in/{loc}?format=j1\"\n",
        "\n",
        "def _safe_float(x, default=None):\n",
        "    \"\"\"Safely convert a value to float (or return None if missing).\"\"\"\n",
        "    try:\n",
        "        return float(x)\n",
        "    except Exception:\n",
        "        return default\n",
        "\n",
        "\n",
        "def get_current_weather(location: str) -> dict:\n",
        "    \"\"\"\n",
        "    Return current weather for a location using wttr.in (no API key).\n",
        "    Keys returned: time, temperature_c, feels_like_c, weather_text, humidity_pct, precip_mm, wind_kmh\n",
        "    \"\"\"\n",
        "    url = WTTR_URL.format(loc=location)\n",
        "    r = requests.get(url, timeout=20)\n",
        "    r.raise_for_status()\n",
        "    data = r.json()\n",
        "\n",
        "    cc = (data.get(\"current_condition\") or [{}])[0]\n",
        "\n",
        "    desc_list = cc.get(\"weatherDesc\") or []\n",
        "    weather_text = desc_list[0].get(\"value\") if isinstance(desc_list, list) and desc_list else None\n",
        "\n",
        "    return {\n",
        "        \"location\": location,\n",
        "        \"time\": cc.get(\"localObsDateTime\") or cc.get(\"observation_time\"),\n",
        "        \"temperature_c\": _safe_float(cc.get(\"temp_C\")),\n",
        "        \"feels_like_c\": _safe_float(cc.get(\"FeelsLikeC\")),\n",
        "        \"weather_text\": weather_text,\n",
        "        \"humidity_pct\": _safe_float(cc.get(\"humidity\")),\n",
        "        \"precip_mm\": _safe_float(cc.get(\"precipMM\")),\n",
        "        \"wind_kmh\": _safe_float(cc.get(\"windspeedKmph\")),\n",
        "    }\n",
        "\n",
        "\n",
        "def get_weather_data(location, forecast_days=3):\n",
        "    \"\"\"\n",
        "    Retrieve current + multi-day forecast for a specified location (1–5 days).\n",
        "    \"\"\"\n",
        "    url = WTTR_URL.format(loc=location)\n",
        "    r = requests.get(url, timeout=20)\n",
        "    r.raise_for_status()\n",
        "    data = r.json()\n",
        "\n",
        "    current = get_current_weather(location)\n",
        "\n",
        "    days = data.get(\"weather\") or []\n",
        "    forecast = []\n",
        "    for d in days[:forecast_days]:\n",
        "        forecast.append({\n",
        "            \"date\": d.get(\"date\"),\n",
        "            \"min_temp\": _safe_float(d.get(\"mintempC\")),\n",
        "            \"max_temp\": _safe_float(d.get(\"maxtempC\")),\n",
        "            \"avg_humidity\": sum(_safe_float(h.get(\"humidity\"), 0) for h in d[\"hourly\"]) / len(d[\"hourly\"]),\n",
        "            \"precip_mm\": sum(_safe_float(h.get(\"precipMM\"), 0) for h in d[\"hourly\"]),\n",
        "        })\n",
        "\n",
        "    return {\"current\": current, \"forecast\": forecast}\n",
        "\n",
        "\n",
        "# ------------------ Interactive section ------------------\n",
        "\n",
        "def _print_card(now: dict):\n",
        "    \"\"\"Pretty print full weather card.\"\"\"\n",
        "    print(\n",
        "        f\"📍 {now['location']}\\n\"\n",
        "        f\"🕒 {now['time']}\\n\"\n",
        "        f\"🌡️ Temp: {now['temperature_c']} °C (feels {now['feels_like_c']} °C)\\n\"\n",
        "        f\"⛅ {now['weather_text']}\\n\"\n",
        "        f\"💧 Humidity: {now['humidity_pct']} %   🌧️ Precip: {now['precip_mm']} mm\\n\"\n",
        "        f\"🌬️ Wind: {now['wind_kmh']} km/h\"\n",
        "    )\n",
        "\n",
        "\n",
        "def _print_attribute(now: dict, choice: str):\n",
        "    \"\"\"Print a single attribute based on menu choice.\"\"\"\n",
        "    choice = choice.lower()\n",
        "    if choice == \"temperature\":\n",
        "        print(f\"🌡️ Temperature: {now['temperature_c']} °C (feels {now['feels_like_c']} °C)\")\n",
        "    elif choice == \"precipitation\":\n",
        "        print(f\"🌧️ Precipitation: {now['precip_mm']} mm\")\n",
        "    elif choice == \"weather\":\n",
        "        print(f\"⛅ Weather: {now['weather_text']}\")\n",
        "    elif choice == \"humidity\":\n",
        "        print(f\"💧 Humidity: {now['humidity_pct']} %\")\n",
        "    elif choice == \"all\":\n",
        "        _print_card(now)\n",
        "    else:\n",
        "        print(\"❓ Unknown choice\")\n",
        "\n",
        "\n",
        "def run_current_weather_cli(default_city: str = None):\n",
        "    \"\"\"\n",
        "    Interactive program:\n",
        "      - Ask user for a city\n",
        "      - Show menu: Temperature / Precipitation / Weather / Humidity / All / Change city / Quit\n",
        "      - Fetches live data from wttr.in\n",
        "    \"\"\"\n",
        "    city = default_city\n",
        "\n",
        "    while True:\n",
        "        if not city:\n",
        "            city = input(\"\\nEnter a city (e.g., Sydney, Delhi, New York): \").strip()\n",
        "            if not city:\n",
        "                print(\"Please enter a valid city name.\")\n",
        "                continue\n",
        "\n",
        "        try:\n",
        "            now = get_current_weather(city)\n",
        "        except Exception as e:\n",
        "            print(f\"⚠️ Could not fetch data for '{city}'. Error: {e}\")\n",
        "            city = None\n",
        "            continue\n",
        "\n",
        "        print(\"\\nChoose an option:\")\n",
        "        print(\" 1) Temperature\\n 2) Precipitation\\n 3) Weather\\n 4) Humidity\\n 5) All\\n 6) Change city\\n 7) Quit\")\n",
        "        choice = input(\"Enter 1–7: \").strip()\n",
        "\n",
        "        if choice == \"1\":\n",
        "            _print_attribute(now, \"temperature\")\n",
        "        elif choice == \"2\":\n",
        "            _print_attribute(now, \"precipitation\")\n",
        "        elif choice == \"3\":\n",
        "            _print_attribute(now, \"weather\")\n",
        "        elif choice == \"4\":\n",
        "            _print_attribute(now, \"humidity\")\n",
        "        elif choice == \"5\":\n",
        "            _print_attribute(now, \"all\")\n",
        "        elif choice == \"6\":\n",
        "            city = input(\"Enter a new city: \").strip()\n",
        "        elif choice == \"7\":\n",
        "            print(\"👋 Bye!\")\n",
        "            break\n",
        "        else:\n",
        "            print(\"❌ Invalid option, please try again.\")\n",
        "\n",
        "\n",
        "# 👉 Run this to start the interactive program\n",
        "run_current_weather_cli()\n",
        "\n",
        "\n",
        "print(\n",
        "    f\"📍 {now['location']}\\n\"\n",
        "    f\"🕒 {now['time']}\\n\"\n",
        "    f\"🌡️ Temp: {now['temperature_c']} °C (feels {now['feels_like_c']} °C)\\n\"\n",
        "    f\"⛅ {now['weather_text']}\\n\"\n",
        "    f\"💧 Humidity: {now['humidity_pct']} %   🌧️ Precip: {now['precip_mm']} mm\\n\"\n",
        "    f\"🌬️ Wind: {now['wind_kmh']} km/h\"\n",
        ")\n",
        "\n"
      ]
    },
    {
      "cell_type": "markdown",
      "id": "8a744fdc",
      "metadata": {
        "id": "8a744fdc"
      },
      "source": [
        "## 📊 Visualisation Functions"
      ]
    },
    {
      "cell_type": "code",
      "execution_count": 20,
      "id": "9dc3bf85",
      "metadata": {
        "id": "9dc3bf85"
      },
      "outputs": [],
      "source": [
        "# Define create_temperature_visualisation() and create_precipitation_visualisation() here\n",
        "from datetime import datetime\n",
        "import matplotlib.pyplot as plt\n",
        "\n",
        "def create_temperature_visualisation(weather_data, output_type='display'):\n",
        "    \"\"\"\n",
        "    Create a line chart of daily min/max temperatures.\n",
        "\n",
        "    Accepts either:\n",
        "      - weather_data[\"forecast\"] with keys: date, min_temp, max_temp\n",
        "      - weather_data[\"daily\"]    with keys: date, t_min_c, t_max_c\n",
        "\n",
        "    Args:\n",
        "        weather_data (dict): The processed weather data.\n",
        "        output_type (str): 'display' to show the figure, or 'figure' to return it.\n",
        "\n",
        "    Returns:\n",
        "        matplotlib.figure.Figure if output_type == 'figure', else None.\n",
        "    \"\"\"\n",
        "    # 1) Extract a normalized list of days\n",
        "    days = weather_data.get(\"forecast\")\n",
        "    using_forecast = True\n",
        "    if not days:\n",
        "        days = weather_data.get(\"daily\", [])\n",
        "        using_forecast = False\n",
        "\n",
        "    if not days:\n",
        "        raise ValueError(\"No daily/forecast data available to plot.\")\n",
        "\n",
        "    # 2) Build X (dates) and Y (min/max) series\n",
        "    X = []\n",
        "    Ymin = []\n",
        "    Ymax = []\n",
        "    for d in days:\n",
        "        date_str = d.get(\"date\")\n",
        "        if not date_str:\n",
        "            continue\n",
        "        # wttr dates are YYYY-MM-DD\n",
        "        try:\n",
        "            dt = datetime.strptime(date_str, \"%Y-%m-%d\")\n",
        "        except Exception:\n",
        "            # Fallback for ISO strings\n",
        "            dt = datetime.fromisoformat(date_str)\n",
        "        X.append(dt)\n",
        "\n",
        "        if using_forecast:\n",
        "            Ymin.append(d.get(\"min_temp\"))\n",
        "            Ymax.append(d.get(\"max_temp\"))\n",
        "        else:\n",
        "            Ymin.append(d.get(\"t_min_c\"))\n",
        "            Ymax.append(d.get(\"t_max_c\"))\n",
        "\n",
        "    if not X:\n",
        "        raise ValueError(\"No valid dates to plot.\")\n",
        "\n",
        "    # 3) Title location (best-effort)\n",
        "    loc = (\n",
        "        weather_data.get(\"current\", {}).get(\"location\")\n",
        "        or weather_data.get(\"location\", {}).get(\"name\")\n",
        "        or \"Selected location\"\n",
        "    )\n",
        "\n",
        "    # 4) Plot (1 figure, no custom colors)\n",
        "    fig = plt.figure(figsize=(9, 5))\n",
        "    plt.plot(X, Ymax, marker='o', label=\"Max temp (°C)\")\n",
        "    plt.plot(X, Ymin, marker='o', label=\"Min temp (°C)\")\n",
        "    plt.title(f\"Temperatures — {loc}\")\n",
        "    plt.xlabel(\"Date\")\n",
        "    plt.ylabel(\"°C\")\n",
        "    plt.grid(True)\n",
        "    plt.legend()\n",
        "    plt.xticks(rotation=30)\n",
        "\n",
        "    if output_type == 'figure':\n",
        "        return fig\n",
        "    plt.show()\n",
        "\n",
        "\n",
        "def create_precipitation_visualisation(weather_data, output_type='display'):\n",
        "    \"\"\"\n",
        "    Create a bar chart of daily total precipitation (mm).\n",
        "\n",
        "    Accepts either:\n",
        "      - weather_data[\"forecast\"] with key: precip_mm\n",
        "      - weather_data[\"daily\"]    with key: precip_mm\n",
        "\n",
        "    Args:\n",
        "        weather_data (dict): The processed weather data.\n",
        "        output_type (str): 'display' to show the figure, or 'figure' to return it.\n",
        "\n",
        "    Returns:\n",
        "        matplotlib.figure.Figure if output_type == 'figure', else None.\n",
        "    \"\"\"\n",
        "    # 1) Extract days from either forecast or daily\n",
        "    days = weather_data.get(\"forecast\") or weather_data.get(\"daily\", [])\n",
        "    if not days:\n",
        "        raise ValueError(\"No daily/forecast data available to plot.\")\n",
        "\n",
        "    # 2) Build X (dates) and Y (precip) series\n",
        "    X = []\n",
        "    P = []\n",
        "    for d in days:\n",
        "        date_str = d.get(\"date\")\n",
        "        if not date_str:\n",
        "            continue\n",
        "        try:\n",
        "            dt = datetime.strptime(date_str, \"%Y-%m-%d\")\n",
        "        except Exception:\n",
        "            dt = datetime.fromisoformat(date_str)\n",
        "        X.append(dt)\n",
        "        P.append(d.get(\"precip_mm\"))\n",
        "\n",
        "    if not X:\n",
        "        raise ValueError(\"No valid dates to plot.\")\n",
        "\n",
        "    # 3) Title location (best-effort)\n",
        "    loc = (\n",
        "        weather_data.get(\"current\", {}).get(\"location\")\n",
        "        or weather_data.get(\"location\", {}).get(\"name\")\n",
        "        or \"Selected location\"\n",
        "    )\n",
        "\n",
        "    # 4) Plot (1 figure, no custom colors)\n",
        "    fig = plt.figure(figsize=(9, 5))\n",
        "    plt.bar(X, P)\n",
        "    plt.title(f\"Precipitation — {loc}\")\n",
        "    plt.xlabel(\"Date\")\n",
        "    plt.ylabel(\"Total precip (mm)\")\n",
        "    plt.grid(True, axis='y')\n",
        "    plt.xticks(rotation=30)\n",
        "\n",
        "    if output_type == 'figure':\n",
        "        return fig\n",
        "    plt.show()\n",
        "\n"
      ]
    },
    {
      "cell_type": "code",
      "source": [
        "\n",
        "def create_precipitation_visualisation(weather_data, output_type='display'):\n",
        "    \"\"\"\n",
        "    Create visualisation of precipitation data.\n",
        "\n",
        "    Args:\n",
        "        weather_data (dict): The processed weather data\n",
        "        output_type (str): Either 'display' to show in notebook or 'figure' to return the figure\n",
        "\n",
        "    Returns:\n",
        "        If output_type is 'figure', returns the matplotlib figure object\n",
        "        Otherwise, displays the visualisation in the notebook\n",
        "    \"\"\"\n",
        "    pass"
      ],
      "metadata": {
        "id": "HpOlQylYG5Ho"
      },
      "id": "HpOlQylYG5Ho",
      "execution_count": 10,
      "outputs": []
    },
    {
      "cell_type": "markdown",
      "id": "9f95d160",
      "metadata": {
        "id": "9f95d160"
      },
      "source": [
        "## 🤖 Natural Language Processing"
      ]
    },
    {
      "cell_type": "code",
      "execution_count": 11,
      "id": "bcc5833e",
      "metadata": {
        "id": "bcc5833e"
      },
      "outputs": [],
      "source": [
        "# Define parse_weather_question() and generate_weather_response() here\n",
        "def parse_weather_question(question):\n",
        "    \"\"\"\n",
        "    Parse a natural language weather question.\n",
        "\n",
        "    Args:\n",
        "        question (str): User's weather-related question\n",
        "\n",
        "    Returns:\n",
        "        dict: Extracted information including location, time period, and weather attribute\n",
        "    \"\"\"\n",
        "    pass"
      ]
    },
    {
      "cell_type": "markdown",
      "id": "0d85225e",
      "metadata": {
        "id": "0d85225e"
      },
      "source": [
        "## 🧭 User Interface"
      ]
    },
    {
      "cell_type": "code",
      "execution_count": 12,
      "id": "fa6cb0f6",
      "metadata": {
        "id": "fa6cb0f6"
      },
      "outputs": [],
      "source": [
        "# Define menu functions using pyinputplus or ipywidgets here"
      ]
    },
    {
      "cell_type": "markdown",
      "id": "d643a53c",
      "metadata": {
        "id": "d643a53c"
      },
      "source": [
        "## 🧩 Main Application Logic"
      ]
    },
    {
      "cell_type": "code",
      "execution_count": 13,
      "id": "a9e2e805",
      "metadata": {
        "id": "a9e2e805"
      },
      "outputs": [],
      "source": [
        "# Tie everything together here\n",
        "def generate_weather_response(parsed_question, weather_data):\n",
        "    \"\"\"\n",
        "    Generate a natural language response to a weather question.\n",
        "\n",
        "    Args:\n",
        "        parsed_question (dict): Parsed question data\n",
        "        weather_data (dict): Weather data\n",
        "\n",
        "    Returns:\n",
        "        str: Natural language response\n",
        "    \"\"\"\n",
        "    pass"
      ]
    },
    {
      "cell_type": "markdown",
      "id": "fde44479",
      "metadata": {
        "id": "fde44479"
      },
      "source": [
        "## 🧪 Testing and Examples"
      ]
    },
    {
      "cell_type": "code",
      "execution_count": 14,
      "id": "4e573901",
      "metadata": {
        "id": "4e573901"
      },
      "outputs": [],
      "source": [
        "# Include sample input/output for each function"
      ]
    },
    {
      "cell_type": "markdown",
      "id": "d2885880",
      "metadata": {
        "id": "d2885880"
      },
      "source": [
        "## 🗂️ AI Prompting Log (Optional)\n",
        "Add markdown cells here summarising prompts used or link to AI conversations in the `ai-conversations/` folder."
      ]
    }
  ],
  "metadata": {
    "language_info": {
      "name": "python"
    },
    "colab": {
      "provenance": [],
      "include_colab_link": true
    },
    "kernelspec": {
      "name": "python3",
      "display_name": "Python 3"
    }
  },
  "nbformat": 4,
  "nbformat_minor": 5
}