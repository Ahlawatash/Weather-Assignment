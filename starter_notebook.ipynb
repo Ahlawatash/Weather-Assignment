{
  "cells": [
    {
      "cell_type": "markdown",
      "metadata": {
        "id": "view-in-github",
        "colab_type": "text"
      },
      "source": [
        "<a href=\"https://colab.research.google.com/github/Ahlawatash/Weather-Assignment/blob/main/starter_notebook.ipynb\" target=\"_parent\"><img src=\"https://colab.research.google.com/assets/colab-badge.svg\" alt=\"Open In Colab\"/></a>"
      ]
    },
    {
      "cell_type": "markdown",
      "id": "72e78a05",
      "metadata": {
        "id": "72e78a05"
      },
      "source": [
        "# 🌦️ WeatherWise – Starter Notebook\n",
        "\n",
        "Welcome to your **WeatherWise** project notebook! This scaffold is designed to help you build your weather advisor app using Python, visualisations, and AI-enhanced development.\n",
        "\n",
        "---\n",
        "\n",
        "📄 **Full Assignment Specification**  \n",
        "See [`ASSIGNMENT.md`](ASSIGNMENT.md) or check the LMS for full details.\n",
        "\n",
        "📝 **Quick Refresher**  \n",
        "A one-page summary is available in [`resources/assignment-summary.md`](resources/assignment-summary.md).\n",
        "\n",
        "---\n",
        "\n",
        "🧠 **This Notebook Structure is Optional**  \n",
        "You’re encouraged to reorganise, rename sections, or remove scaffold cells if you prefer — as long as your final version meets the requirements.\n",
        "\n",
        "✅ You may delete this note before submission.\n",
        "\n"
      ]
    },
    {
      "cell_type": "markdown",
      "id": "fa8c7f6c",
      "metadata": {
        "id": "fa8c7f6c"
      },
      "source": [
        "## 🧰 Setup and Imports\n",
        "\n",
        "This section imports commonly used packages and installs any additional tools used in the project.\n",
        "\n",
        "- You may not need all of these unless you're using specific features (e.g. visualisations, advanced prompting).\n",
        "- The notebook assumes the following packages are **pre-installed** in the provided environment or installable via pip:\n",
        "  - `requests`, `matplotlib`, `pyinputplus`\n",
        "  - `fetch-my-weather` (for accessing weather data easily)\n",
        "  - `hands-on-ai` (for AI logging, comparisons, or prompting tools)\n",
        "\n",
        "If you're running this notebook in **Google Colab**, uncomment the following lines to install the required packages.\n"
      ]
    },
    {
      "cell_type": "code",
      "execution_count": null,
      "id": "70c3f3f1",
      "metadata": {
        "id": "70c3f3f1"
      },
      "outputs": [],
      "source": [
        "# 🧪 Optional packages — uncomment if needed in Colab or JupyterHub\n",
        "!pip install requests\n",
        "!pip install matplotlib\n",
        "!pip install pyinputplus\n",
        "!pip install pandas\n",
        "!pip install hands-on-ai\n"
      ]
    },
    {
      "cell_type": "code",
      "source": [
        "import os\n",
        "\n",
        "os.environ['HANDS_ON_AI_SERVER'] = 'http://ollama.serveur.au'\n",
        "os.environ['HANDS_ON_AI_MODEL'] = 'granite3.2'\n",
        "os.environ['HANDS_ON_AI_API_KEY'] = '29e060f713934fef81330206ee7b9842.m8axTsN_eQbon2ajZvmLV42e'"
      ],
      "metadata": {
        "id": "B2JKlJfrGgIb"
      },
      "id": "B2JKlJfrGgIb",
      "execution_count": null,
      "outputs": []
    },
    {
      "cell_type": "markdown",
      "id": "59ae7543",
      "metadata": {
        "id": "59ae7543"
      },
      "source": [
        "## 📦 Setup and Configuration\n",
        "Import required packages and setup environment."
      ]
    },
    {
      "cell_type": "code",
      "execution_count": null,
      "id": "f1dd051e",
      "metadata": {
        "id": "f1dd051e"
      },
      "outputs": [],
      "source": [
        "import requests\n",
        "import matplotlib.pyplot as plt\n",
        "import pyinputplus as pyip\n",
        "import pandas as pd\n",
        "from datetime import datetime\n",
        "\n",
        "\n",
        "# Add any other setup code here"
      ]
    },
    {
      "cell_type": "markdown",
      "id": "f736ade3",
      "metadata": {
        "id": "f736ade3"
      },
      "source": [
        "## 🌤️ Weather Data Functions"
      ]
    },
    {
      "cell_type": "code",
      "execution_count": null,
      "id": "7a2c7cd0",
      "metadata": {
        "id": "7a2c7cd0",
        "colab": {
          "base_uri": "https://localhost:8080/"
        },
        "outputId": "be963bf4-3d40-42a2-dbc0-36e0dd9ddd92"
      },
      "outputs": [
        {
          "output_type": "stream",
          "name": "stdout",
          "text": [
            "\n",
            "Enter a city (e.g., Sydney, Delhi, New York): delhi\n",
            "\n",
            "Choose an option:\n",
            " 1) Temperature (current)\n",
            " 2) Precipitation (current)\n",
            " 3) Weather (current)\n",
            " 4) Humidity (current)\n",
            " 5) All (current card)\n",
            " 6) Forecast (1–5 days)\n",
            " 7) Change city\n",
            " 8) Quit\n",
            "\n",
            "Enter a number 1-8 and press Enter: 6\n",
            "How many days (1–5)? 4\n",
            "⚠️ Couldn't show forecast: ('Connection aborted.', ConnectionResetError(104, 'Connection reset by peer'))\n",
            "\n",
            "Choose an option:\n",
            " 1) Temperature (current)\n",
            " 2) Precipitation (current)\n",
            " 3) Weather (current)\n",
            " 4) Humidity (current)\n",
            " 5) All (current card)\n",
            " 6) Forecast (1–5 days)\n",
            " 7) Change city\n",
            " 8) Quit\n",
            "\n",
            "Enter a number 1-8 and press Enter: 6\n",
            "How many days (1–5)? 2\n",
            "\n",
            "📅 Forecast for delhi:\n",
            "  Fri 17 Oct: 25.0–33.0°C | 💧 0.0 mm | 🌫️ Humidity ~32%\n",
            "  Sat 18 Oct: 25.0–33.0°C | 💧 0.0 mm | 🌫️ Humidity ~32%\n",
            "\n",
            "Choose an option:\n",
            " 1) Temperature (current)\n",
            " 2) Precipitation (current)\n",
            " 3) Weather (current)\n",
            " 4) Humidity (current)\n",
            " 5) All (current card)\n",
            " 6) Forecast (1–5 days)\n",
            " 7) Change city\n",
            " 8) Quit\n",
            "\n",
            "Enter a number 1-8 and press Enter: 6\n",
            "How many days (1–5)? 5\n",
            "\n",
            "📅 Forecast for delhi:\n",
            "  Fri 17 Oct: 25.0–33.0°C | 💧 0.0 mm | 🌫️ Humidity ~32%\n",
            "  Sat 18 Oct: 25.0–33.0°C | 💧 0.0 mm | 🌫️ Humidity ~32%\n",
            "  Sun 19 Oct: 25.0–33.0°C | 💧 0.0 mm | 🌫️ Humidity ~32%\n",
            "\n",
            "Choose an option:\n",
            " 1) Temperature (current)\n",
            " 2) Precipitation (current)\n",
            " 3) Weather (current)\n",
            " 4) Humidity (current)\n",
            " 5) All (current card)\n",
            " 6) Forecast (1–5 days)\n",
            " 7) Change city\n",
            " 8) Quit\n",
            "\n",
            "Enter a number 1-8 and press Enter: 6\n",
            "How many days (1–5)? 3\n",
            "\n",
            "📅 Forecast for delhi:\n",
            "  Fri 17 Oct: 25.0–33.0°C | 💧 0.0 mm | 🌫️ Humidity ~32%\n",
            "  Sat 18 Oct: 25.0–33.0°C | 💧 0.0 mm | 🌫️ Humidity ~32%\n",
            "  Sun 19 Oct: 25.0–33.0°C | 💧 0.0 mm | 🌫️ Humidity ~32%\n",
            "\n",
            "Choose an option:\n",
            " 1) Temperature (current)\n",
            " 2) Precipitation (current)\n",
            " 3) Weather (current)\n",
            " 4) Humidity (current)\n",
            " 5) All (current card)\n",
            " 6) Forecast (1–5 days)\n",
            " 7) Change city\n",
            " 8) Quit\n"
          ]
        }
      ],
      "source": [
        "# Define get_weather_data() function here\n",
        "# 🌦️ Weather Data Functions + Interactive Menu\n",
        "\n",
        "import requests\n",
        "from datetime import datetime\n",
        "\n",
        "WTTR_URL = \"https://wttr.in/{loc}?format=j1\"\n",
        "\n",
        "def _safe_float(x, default=None):\n",
        "    \"\"\"Safely convert a value to float (or return None if missing).\"\"\"\n",
        "    try:\n",
        "        return float(x)\n",
        "    except Exception:\n",
        "        return default\n",
        "\n",
        "def get_current_weather(location: str) -> dict:\n",
        "    \"\"\"\n",
        "    Return current weather for a location using wttr.in (no API key).\n",
        "    Keys returned: time, temperature_c, feels_like_c, weather_text, humidity_pct, precip_mm, wind_kmh\n",
        "    \"\"\"\n",
        "    url = WTTR_URL.format(loc=location)\n",
        "    r = requests.get(url, timeout=20)\n",
        "    r.raise_for_status()\n",
        "    data = r.json()\n",
        "\n",
        "    cc = (data.get(\"current_condition\") or [{}])[0]\n",
        "    desc_list = cc.get(\"weatherDesc\") or []\n",
        "    weather_text = desc_list[0].get(\"value\") if isinstance(desc_list, list) and desc_list else None\n",
        "\n",
        "    return {\n",
        "        \"location\": location,\n",
        "        \"time\": cc.get(\"localObsDateTime\") or cc.get(\"observation_time\"),\n",
        "        \"temperature_c\": _safe_float(cc.get(\"temp_C\")),\n",
        "        \"feels_like_c\": _safe_float(cc.get(\"FeelsLikeC\")),\n",
        "        \"weather_text\": weather_text,\n",
        "        \"humidity_pct\": _safe_float(cc.get(\"humidity\")),\n",
        "        \"precip_mm\": _safe_float(cc.get(\"precipMM\")),\n",
        "        \"wind_kmh\": _safe_float(cc.get(\"windspeedKmph\")),\n",
        "    }\n",
        "\n",
        "def get_weather_data(location, forecast_days=3):\n",
        "    \"\"\"\n",
        "    Retrieve current + multi-day forecast for a specified location (1–5 days).\n",
        "    Returns {\"current\": {...}, \"forecast\": [{date,min_temp,max_temp,avg_humidity,precip_mm}, ...]}\n",
        "    \"\"\"\n",
        "    # Clamp days to 1..5 and to available days\n",
        "    forecast_days = max(1, min(int(forecast_days), 5))\n",
        "\n",
        "    url = WTTR_URL.format(loc=location)\n",
        "    r = requests.get(url, timeout=20)\n",
        "    r.raise_for_status()\n",
        "    data = r.json()\n",
        "\n",
        "    current = get_current_weather(location)\n",
        "    days = data.get(\"weather\") or []\n",
        "    forecast = []\n",
        "    for d in days[:forecast_days]:\n",
        "        hourly = d.get(\"hourly\") or []\n",
        "        avg_hum = (sum(_safe_float(h.get(\"humidity\"), 0.0) for h in hourly) / len(hourly)) if hourly else None\n",
        "        precip = sum(_safe_float(h.get(\"precipMM\"), 0.0) for h in hourly) if hourly else None\n",
        "\n",
        "        forecast.append({\n",
        "            \"date\": d.get(\"date\"),\n",
        "            \"min_temp\": _safe_float(d.get(\"mintempC\")),\n",
        "            \"max_temp\": _safe_float(d.get(\"maxtempC\")),\n",
        "            \"avg_humidity\": avg_hum,\n",
        "            \"precip_mm\": precip,\n",
        "        })\n",
        "\n",
        "    return {\"current\": current, \"forecast\": forecast}\n",
        "\n",
        "# ---------- Printing helpers ----------\n",
        "def _print_card(now: dict):\n",
        "    \"\"\"Pretty print full weather card (current conditions).\"\"\"\n",
        "    print(\n",
        "        f\"📍 {now['location']}\\n\"\n",
        "        f\"🕒 {now['time']}\\n\"\n",
        "        f\"🌡️ Temp: {now['temperature_c']} °C (feels {now['feels_like_c']} °C)\\n\"\n",
        "        f\"⛅ {now['weather_text']}\\n\"\n",
        "        f\"💧 Humidity: {now['humidity_pct']} %   🌧️ Precip: {now['precip_mm']} mm\\n\"\n",
        "        f\"🌬️ Wind: {now['wind_kmh']} km/h\"\n",
        "    )\n",
        "\n",
        "def _print_attribute(now: dict, choice: str):\n",
        "    \"\"\"Print a single CURRENT attribute based on menu choice.\"\"\"\n",
        "    choice = choice.lower()\n",
        "    if choice == \"temperature\":\n",
        "        print(f\"🌡️ Temperature: {now['temperature_c']} °C (feels {now['feels_like_c']} °C)\")\n",
        "    elif choice == \"precipitation\":\n",
        "        print(f\"🌧️ Precipitation: {now['precip_mm']} mm\")\n",
        "    elif choice == \"weather\":\n",
        "        print(f\"⛅ Weather: {now['weather_text']}\")\n",
        "    elif choice == \"humidity\":\n",
        "        print(f\"💧 Humidity: {now['humidity_pct']} %\")\n",
        "    elif choice == \"all\":\n",
        "        _print_card(now)\n",
        "    else:\n",
        "        print(\"❓ Unknown choice\")\n",
        "\n",
        "def _print_forecast_table(forecast: list, city: str):\n",
        "    \"\"\"Neat textual table for multi-day forecast.\"\"\"\n",
        "    if not forecast:\n",
        "        print(\"No forecast data available.\")\n",
        "        return\n",
        "    print(f\"\\n📅 Forecast for {city}:\")\n",
        "    for d in forecast:\n",
        "        try:\n",
        "            label = datetime.strptime(d[\"date\"], \"%Y-%m-%d\").strftime(\"%a %d %b\")\n",
        "        except Exception:\n",
        "            label = d[\"date\"]\n",
        "        min_t = d.get(\"min_temp\")\n",
        "        max_t = d.get(\"max_temp\")\n",
        "        hum   = d.get(\"avg_humidity\")\n",
        "        pmm   = d.get(\"precip_mm\")\n",
        "        hum_s = f\"{round(hum)}%\" if hum is not None else \"—\"\n",
        "        pmm_s = f\"{round(pmm,1)} mm\" if pmm is not None else \"—\"\n",
        "        print(f\"  {label}: {min_t}–{max_t}°C | 💧 {pmm_s} | 🌫️ Humidity ~{hum_s}\")\n",
        "\n",
        "# ---------- Interactive CLI (now includes Forecast option) ----------\n",
        "def run_current_weather_cli(default_city: str = None):\n",
        "    \"\"\"\n",
        "    Interactive program:\n",
        "      - Ask user for a city\n",
        "      - Menu:\n",
        "          1 Temperature (current)\n",
        "          2 Precipitation (current)\n",
        "          3 Weather (current)\n",
        "          4 Humidity (current)\n",
        "          5 All (current card)\n",
        "          6 Forecast (1–5 days)\n",
        "          7 Change city\n",
        "          8 Quit\n",
        "    \"\"\"\n",
        "    city = default_city\n",
        "    while True:\n",
        "        if not city:\n",
        "            city = input(\"\\nEnter a city (e.g., Sydney, Delhi, New York): \").strip()\n",
        "            if not city:\n",
        "                print(\"Please enter a valid city name.\")\n",
        "                continue\n",
        "\n",
        "        try:\n",
        "            now = get_current_weather(city)\n",
        "        except Exception as e:\n",
        "            print(f\"⚠️ Could not fetch data for '{city}'. Error: {e}\")\n",
        "            city = None\n",
        "            continue\n",
        "\n",
        "        print(\"\\nChoose an option:\")\n",
        "        print(\" 1) Temperature (current)\\n 2) Precipitation (current)\\n 3) Weather (current)\\n 4) Humidity (current)\"\n",
        "              \"\\n 5) All (current card)\\n 6) Forecast (1–5 days)\\n 7) Change city\\n 8) Quit\")\n",
        "        choice = input(\"\\nEnter a number 1-8 and press Enter: \").strip()\n",
        "\n",
        "        if choice == \"1\":\n",
        "            _print_attribute(now, \"temperature\")\n",
        "        elif choice == \"2\":\n",
        "            _print_attribute(now, \"precipitation\")\n",
        "        elif choice == \"3\":\n",
        "            _print_attribute(now, \"weather\")\n",
        "        elif choice == \"4\":\n",
        "            _print_attribute(now, \"humidity\")\n",
        "        elif choice == \"5\":\n",
        "            _print_attribute(now, \"all\")\n",
        "        elif choice == \"6\":\n",
        "            try:\n",
        "                days_str = input(\"How many days (1–5)? \").strip()\n",
        "                days = int(days_str)\n",
        "                wd = get_weather_data(city, forecast_days=days)\n",
        "                _print_forecast_table(wd[\"forecast\"], city)\n",
        "            except Exception as e:\n",
        "                print(f\"⚠️ Couldn't show forecast: {e}\")\n",
        "        elif choice == \"7\":\n",
        "            city = input(\"Enter a new city: \").strip()\n",
        "        elif choice == \"8\":\n",
        "            print(\"👋 Bye!\")\n",
        "            break\n",
        "        else:\n",
        "            print(\"❌ Invalid option, please try again.\")\n",
        "\n",
        "# Run the interactive program\n",
        "run_current_weather_cli()\n",
        "\n"
      ]
    },
    {
      "cell_type": "markdown",
      "id": "8a744fdc",
      "metadata": {
        "id": "8a744fdc"
      },
      "source": [
        "## 📊 Visualisation Functions"
      ]
    },
    {
      "cell_type": "code",
      "execution_count": null,
      "id": "9dc3bf85",
      "metadata": {
        "id": "9dc3bf85"
      },
      "outputs": [],
      "source": [
        "# Define create_temperature_visualisation() and create_precipitation_visualisation() here\n",
        "from datetime import datetime\n",
        "import matplotlib.pyplot as plt\n",
        "\n",
        "def create_temperature_visualisation(weather_data, output_type='display'):\n",
        "    \"\"\"\n",
        "    Line chart of daily min/max temperatures from weather_data['forecast'].\n",
        "    Expects items with keys: date, min_temp, max_temp.\n",
        "    \"\"\"\n",
        "    days = weather_data.get(\"forecast\", [])\n",
        "    if not days:\n",
        "        raise ValueError(\"No forecast data to plot. Call get_weather_data(..., forecast_days>=1).\")\n",
        "\n",
        "    # X = dates, Y = min/max temps\n",
        "    X, Tmin, Tmax = [], [], []\n",
        "    for d in days:\n",
        "        ds = d.get(\"date\")\n",
        "        if not ds:\n",
        "            continue\n",
        "        try:\n",
        "            dt = datetime.strptime(ds, \"%Y-%m-%d\")\n",
        "        except Exception:\n",
        "            dt = datetime.fromisoformat(ds)\n",
        "        X.append(dt)\n",
        "        Tmin.append(d.get(\"min_temp\"))\n",
        "        Tmax.append(d.get(\"max_temp\"))\n",
        "\n",
        "    if not X:\n",
        "        raise ValueError(\"No valid dates found in forecast.\")\n",
        "\n",
        "    loc = weather_data.get(\"current\", {}).get(\"location\", \"Selected location\")\n",
        "\n",
        "    fig = plt.figure(figsize=(9,5))\n",
        "    plt.plot(X, Tmax, marker='o', label=\"Max temp (°C)\")\n",
        "    plt.plot(X, Tmin, marker='o', label=\"Min temp (°C)\")\n",
        "    plt.title(f\"Temperatures — {loc}\")\n",
        "    plt.xlabel(\"Date\")\n",
        "    plt.ylabel(\"°C\")\n",
        "    plt.grid(True)\n",
        "    plt.legend()\n",
        "    plt.xticks(rotation=30)\n",
        "\n",
        "    if output_type == 'figure':\n",
        "        return fig\n",
        "    plt.show()\n",
        "\n",
        "\n",
        "def create_precipitation_visualisation(weather_data, output_type='display'):\n",
        "    \"\"\"\n",
        "    Bar chart of daily total precipitation from weather_data['forecast'].\n",
        "    Expects items with key: precip_mm.\n",
        "    \"\"\"\n",
        "    days = weather_data.get(\"forecast\", [])\n",
        "    if not days:\n",
        "        raise ValueError(\"No forecast data to plot. Call get_weather_data(..., forecast_days>=1).\")\n",
        "\n",
        "    X, P = [], []\n",
        "    for d in days:\n",
        "        ds = d.get(\"date\")\n",
        "        if not ds:\n",
        "            continue\n",
        "        try:\n",
        "            dt = datetime.strptime(ds, \"%Y-%m-%d\")\n",
        "        except Exception:\n",
        "            dt = datetime.fromisoformat(ds)\n",
        "        X.append(dt)\n",
        "        P.append(d.get(\"precip_mm\"))\n",
        "\n",
        "    if not X:\n",
        "        raise ValueError(\"No valid dates found in forecast.\")\n",
        "\n",
        "    loc = weather_data.get(\"current\", {}).get(\"location\", \"Selected location\")\n",
        "\n",
        "    fig = plt.figure(figsize=(9,5))\n",
        "    plt.bar(X, P)\n",
        "    plt.title(f\"Precipitation — {loc}\")\n",
        "    plt.xlabel(\"Date\")\n",
        "    plt.ylabel(\"Total precip (mm)\")\n",
        "    plt.grid(True, axis='y')\n",
        "    plt.xticks(rotation=30)\n",
        "\n",
        "    if output_type == 'figure':\n",
        "        return fig\n",
        "    plt.show()\n",
        "\n",
        "\n"
      ]
    },
    {
      "cell_type": "code",
      "source": [
        "\n",
        "def create_precipitation_visualisation(weather_data, output_type='display'):\n",
        "    \"\"\"\n",
        "    Create visualisation of precipitation data.\n",
        "\n",
        "    Args:\n",
        "        weather_data (dict): The processed weather data\n",
        "        output_type (str): Either 'display' to show in notebook or 'figure' to return the figure\n",
        "\n",
        "    Returns:\n",
        "        If output_type is 'figure', returns the matplotlib figure object\n",
        "        Otherwise, displays the visualisation in the notebook\n",
        "    \"\"\"\n",
        "    pass"
      ],
      "metadata": {
        "id": "HpOlQylYG5Ho"
      },
      "id": "HpOlQylYG5Ho",
      "execution_count": null,
      "outputs": []
    },
    {
      "cell_type": "markdown",
      "id": "9f95d160",
      "metadata": {
        "id": "9f95d160"
      },
      "source": [
        "## 🤖 Natural Language Processing"
      ]
    },
    {
      "cell_type": "code",
      "execution_count": null,
      "id": "bcc5833e",
      "metadata": {
        "id": "bcc5833e"
      },
      "outputs": [],
      "source": [
        "# Define parse_weather_question() and generate_weather_response() here\n",
        "def parse_weather_question(question):\n",
        "    \"\"\"\n",
        "    Parse a natural language weather question.\n",
        "\n",
        "    Args:\n",
        "        question (str): User's weather-related question\n",
        "\n",
        "    Returns:\n",
        "        dict: Extracted information including location, time period, and weather attribute\n",
        "    \"\"\"\n",
        "    pass"
      ]
    },
    {
      "cell_type": "markdown",
      "id": "0d85225e",
      "metadata": {
        "id": "0d85225e"
      },
      "source": [
        "## 🧭 User Interface"
      ]
    },
    {
      "cell_type": "code",
      "execution_count": null,
      "id": "fa6cb0f6",
      "metadata": {
        "id": "fa6cb0f6"
      },
      "outputs": [],
      "source": [
        "# Define menu functions using pyinputplus or ipywidgets here"
      ]
    },
    {
      "cell_type": "markdown",
      "id": "d643a53c",
      "metadata": {
        "id": "d643a53c"
      },
      "source": [
        "## 🧩 Main Application Logic"
      ]
    },
    {
      "cell_type": "code",
      "execution_count": null,
      "id": "a9e2e805",
      "metadata": {
        "id": "a9e2e805"
      },
      "outputs": [],
      "source": [
        "# Tie everything together here\n",
        "def generate_weather_response(parsed_question, weather_data):\n",
        "    \"\"\"\n",
        "    Generate a natural language response to a weather question.\n",
        "\n",
        "    Args:\n",
        "        parsed_question (dict): Parsed question data\n",
        "        weather_data (dict): Weather data\n",
        "\n",
        "    Returns:\n",
        "        str: Natural language response\n",
        "    \"\"\"\n",
        "    pass"
      ]
    },
    {
      "cell_type": "markdown",
      "id": "fde44479",
      "metadata": {
        "id": "fde44479"
      },
      "source": [
        "## 🧪 Testing and Examples"
      ]
    },
    {
      "cell_type": "code",
      "execution_count": null,
      "id": "4e573901",
      "metadata": {
        "id": "4e573901"
      },
      "outputs": [],
      "source": [
        "# Include sample input/output for each function"
      ]
    },
    {
      "cell_type": "markdown",
      "id": "d2885880",
      "metadata": {
        "id": "d2885880"
      },
      "source": [
        "## 🗂️ AI Prompting Log (Optional)\n",
        "Add markdown cells here summarising prompts used or link to AI conversations in the `ai-conversations/` folder."
      ]
    }
  ],
  "metadata": {
    "language_info": {
      "name": "python"
    },
    "colab": {
      "provenance": [],
      "include_colab_link": true
    },
    "kernelspec": {
      "name": "python3",
      "display_name": "Python 3"
    }
  },
  "nbformat": 4,
  "nbformat_minor": 5
}